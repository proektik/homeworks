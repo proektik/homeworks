{
  "nbformat": 4,
  "nbformat_minor": 0,
  "metadata": {
    "colab": {
      "name": "home_work_2_ivanova.ipynb",
      "provenance": []
    },
    "kernelspec": {
      "name": "python3",
      "display_name": "Python 3"
    },
    "language_info": {
      "name": "python"
    }
  },
  "cells": [
    {
      "cell_type": "markdown",
      "metadata": {
        "id": "YsjFIZPCHHGM"
      },
      "source": [
        "Даны четыре действительных числа: x1, y1, x2, y2. Напишите функцию distance(x1, y1, x2, y2), вычисляющая расстояние между точкой (x1,y1) и (x2,y2)."
      ]
    },
    {
      "cell_type": "code",
      "metadata": {
        "colab": {
          "base_uri": "https://localhost:8080/"
        },
        "id": "ycXpnH2LACpF",
        "outputId": "6960fa66-533a-4b04-86bb-a1314a1f3c0e"
      },
      "source": [
        "#1\n",
        "\n",
        "def distance(x1, y1, x2, y2):\n",
        "  return (((x1 - x2)**2 + (y1 - y2)**2)**0.5)\n",
        "\n",
        "x1, y1, x2, y2 = map(float, input().split())\n",
        "\n",
        "print(distance(x1, y1, x2, y2))"
      ],
      "execution_count": 17,
      "outputs": [
        {
          "output_type": "stream",
          "name": "stdout",
          "text": [
            "0 0 6 3\n",
            "6.708203932499369\n"
          ]
        }
      ]
    },
    {
      "cell_type": "markdown",
      "metadata": {
        "id": "BbQ0fI0cHPSe"
      },
      "source": [
        "Написать функцию season(month), принимающую 1 аргумент — номер месяца (от 1 до 12), которая присваивает глобальной переменной s время года, которому этот месяц принадлежит (зима, весна, лето или осень)."
      ]
    },
    {
      "cell_type": "code",
      "metadata": {
        "colab": {
          "base_uri": "https://localhost:8080/"
        },
        "id": "pkekpcnDEwS5",
        "outputId": "b76c59c5-3b51-4c3a-d061-ce62a4fb7b0e"
      },
      "source": [
        "#2\n",
        "month = int(input())\n",
        "s = 'idk'\n",
        "\n",
        "def season(month):\n",
        "  global s\n",
        "  if month == 1 or month == 2 or month == 12:\n",
        "    s = 'winter'\n",
        "  elif month >= 3 and month <= 5:\n",
        "    s = 'spring'\n",
        "  elif month >= 6 and month <=8:\n",
        "    s = 'summer'\n",
        "  else:\n",
        "    s = 'autumn'\n",
        "\n",
        "season(month)\n",
        "\n",
        "print(s)"
      ],
      "execution_count": 26,
      "outputs": [
        {
          "output_type": "stream",
          "name": "stdout",
          "text": [
            "5\n",
            "spring\n"
          ]
        }
      ]
    },
    {
      "cell_type": "markdown",
      "metadata": {
        "id": "e1V2FLmmHTDn"
      },
      "source": [
        "Написать функцию is_prime, принимающую 1 аргумент — число от 0 до 1000, и возвращающую True, если оно простое, и False - иначе."
      ]
    },
    {
      "cell_type": "code",
      "metadata": {
        "colab": {
          "base_uri": "https://localhost:8080/"
        },
        "id": "4x8oE_zFHFUm",
        "outputId": "a2eccead-574d-4f80-f7ca-ea4aca0e6273"
      },
      "source": [
        "#3\n",
        "a = int(input())\n",
        "ans = True\n",
        "\n",
        "def is_prime(a):\n",
        "  global ans\n",
        "  for i in range (2, a):\n",
        "    if a % i == 0:\n",
        "      ans = False\n",
        "\n",
        "is_prime(a)\n",
        "\n",
        "print(ans)"
      ],
      "execution_count": 34,
      "outputs": [
        {
          "output_type": "stream",
          "name": "stdout",
          "text": [
            "21\n",
            "False\n"
          ]
        }
      ]
    },
    {
      "cell_type": "markdown",
      "metadata": {
        "id": "ZxNIyDs6Ie_0"
      },
      "source": [
        "Написать функцию reverse_list(lst), которая принимает в качестве аргумента список и возвращаем его в перевернутом виде.\n",
        "\n",
        "Например,\n",
        "\n",
        "исходный спискок: 8, 1, 0, 4\n",
        "полученный спискок: 4, 0, 1, 8\n",
        "Использовать встроенные функции Python нельзя."
      ]
    },
    {
      "cell_type": "code",
      "metadata": {
        "colab": {
          "base_uri": "https://localhost:8080/"
        },
        "id": "tMV0VGOvIihF",
        "outputId": "cdd0d71c-2eb5-42a5-f1d8-702242cd7084"
      },
      "source": [
        "#4\n",
        "\n",
        "x = list(map(int, input().split(',')))\n",
        "\n",
        "for i in range (int(len(x) / 2)):\n",
        "  t = x[i]\n",
        "  x[i] = x[int(len(x) - i - 1)]\n",
        "  x[int(len(x) - i - 1)] = t\n",
        "\n",
        "print(x)"
      ],
      "execution_count": 39,
      "outputs": [
        {
          "output_type": "stream",
          "name": "stdout",
          "text": [
            "8, 1, 0, 4\n",
            "[4, 0, 1, 8]\n"
          ]
        }
      ]
    },
    {
      "cell_type": "markdown",
      "metadata": {
        "id": "dpy30rm5KRIN"
      },
      "source": [
        "Распечатайте с 4 по 8 символ фразы \"Привет мир!\" приведенные к верхнему регистру.\n",
        "\n"
      ]
    },
    {
      "cell_type": "code",
      "metadata": {
        "colab": {
          "base_uri": "https://localhost:8080/"
        },
        "id": "DDa9FaQpKxT6",
        "outputId": "0749b061-594e-4cc0-c8cb-a4944557944d"
      },
      "source": [
        "#5\n",
        "\n",
        "str = 'Привет мир!'\n",
        "\n",
        "str = str.upper()\n",
        "\n",
        "print(str[4:9])"
      ],
      "execution_count": 43,
      "outputs": [
        {
          "output_type": "stream",
          "name": "stdout",
          "text": [
            "ЕТ МИ\n"
          ]
        }
      ]
    },
    {
      "cell_type": "markdown",
      "metadata": {
        "id": "y5PHioVbLUQh"
      },
      "source": [
        "Напишите код, который все элементы массива x с нечетными индексами переставит в обратном порядке.\n",
        "\n",
        "Т.е. если x = [0, 1, 2, 3, 4, 5, 6, 7, 8, 9], то код должен получать [0, 9, 2, 7, 4, 5, 6, 3, 8, 1]"
      ]
    },
    {
      "cell_type": "code",
      "metadata": {
        "colab": {
          "base_uri": "https://localhost:8080/"
        },
        "id": "exqNhfsnLadF",
        "outputId": "7f5f5613-cb02-4c5a-a320-6489b7ffe9fb"
      },
      "source": [
        "#6\n",
        "\n",
        "x = list(map(int, input().split(',')))\n",
        "\n",
        "if len(x) % 2 == 0:\n",
        "  l = 0\n",
        "else: \n",
        "  l = 1\n",
        "\n",
        "for i in range (1, int(len(x) / 2), 2):\n",
        "  global l\n",
        "  t = x[i]\n",
        "  x[i] = x[int(len(x) - l - 1)]\n",
        "  x[int(len(x) - l - 1)] = t\n",
        "  l += 2\n",
        "\n",
        "print(x)"
      ],
      "execution_count": 51,
      "outputs": [
        {
          "output_type": "stream",
          "name": "stdout",
          "text": [
            "0, 1, 2, 3, 4, 5, 6, 7, 8, 9\n",
            "[0, 9, 2, 7, 4, 5, 6, 3, 8, 1]\n"
          ]
        }
      ]
    },
    {
      "cell_type": "markdown",
      "metadata": {
        "id": "Ydat3LckMxiu"
      },
      "source": [
        "Напишите цикл, который выводит все числа от 0 до 500, делящиеся на 7, если в них есть цифра 8."
      ]
    },
    {
      "cell_type": "code",
      "metadata": {
        "colab": {
          "base_uri": "https://localhost:8080/"
        },
        "id": "CnEeeHBhM2cH",
        "outputId": "6ed36eaa-6c97-4798-e4f5-97c5b416be77"
      },
      "source": [
        "#7\n",
        "\n",
        "for i in range (0, 501, 7):\n",
        "  pr = False\n",
        "  i2 = i\n",
        "  while i2 != 0:\n",
        "    s = i2 % 10\n",
        "    if s == 8:\n",
        "      pr = True\n",
        "    i2 = i2 // 10\n",
        "  if pr == True:\n",
        "    print(i)\n"
      ],
      "execution_count": 52,
      "outputs": [
        {
          "output_type": "stream",
          "name": "stdout",
          "text": [
            "28\n",
            "84\n",
            "98\n",
            "168\n",
            "182\n",
            "189\n",
            "238\n",
            "280\n",
            "287\n",
            "308\n",
            "378\n",
            "385\n",
            "448\n",
            "483\n"
          ]
        }
      ]
    },
    {
      "cell_type": "markdown",
      "metadata": {
        "id": "QcqaOBJ7OCvz"
      },
      "source": [
        "На вход функция more_than_five(lst) получает список из целых чисел. Результатом работы функции должен стать новый список, в котором содержатся только те числа, которые больше 10 по модулю."
      ]
    },
    {
      "cell_type": "code",
      "metadata": {
        "colab": {
          "base_uri": "https://localhost:8080/"
        },
        "id": "4vY-MSz8OCSG",
        "outputId": "384850c4-446b-4609-ad13-ddd900f05e28"
      },
      "source": [
        "#8\n",
        "\n",
        "lst = list(map(int, input().split(',')))\n",
        "\n",
        "def more_than_five(lst):\n",
        "  ans = []\n",
        "  for i in range(int(len(lst))):\n",
        "    if abs(lst[i]) > abs(10):\n",
        "      ans.append(lst[i])\n",
        "  return ans\n",
        "\n",
        "more_than_five(lst)"
      ],
      "execution_count": 63,
      "outputs": [
        {
          "name": "stdout",
          "output_type": "stream",
          "text": [
            "5, 12, -5, -12\n"
          ]
        },
        {
          "output_type": "execute_result",
          "data": {
            "text/plain": [
              "[12, -12]"
            ]
          },
          "metadata": {},
          "execution_count": 63
        }
      ]
    }
  ]
}